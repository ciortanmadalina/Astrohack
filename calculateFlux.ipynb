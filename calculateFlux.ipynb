{
 "cells": [
  {
   "cell_type": "code",
   "execution_count": 1,
   "metadata": {
    "collapsed": true
   },
   "outputs": [],
   "source": [
    "import csv\n",
    "import numpy\n",
    "import pandas as pd\n",
    "import os\n",
    "import peakutils\n",
    "import matplotlib.pyplot as plt\n",
    "import scipy\n",
    "import scipy.ndimage as ndimage\n",
    "import scipy.ndimage.filters as filters"
   ]
  },
  {
   "cell_type": "code",
   "execution_count": 2,
   "metadata": {
    "collapsed": true
   },
   "outputs": [],
   "source": [
    "def fluxFeature(ids, g_input, i_input, outputFilename):\n",
    "    target = open(outputFilename, 'w')\n",
    "    target.write(\"SDSS_ID;flux_g;flux_i\\n\")\n",
    "\n",
    "    for i in range(len(ids)):\n",
    "        file_g = numpy.genfromtxt(g_input[i], delimiter=\",\")\n",
    "        file_i = numpy.genfromtxt(i_input[i], delimiter=\",\")\n",
    "        flux_g = file_g.sum()\n",
    "        flux_i = file_i.sum()\n",
    "        #print('Flux : %s, %s ' % (flux_g, flux_i))\n",
    "        target.write(str(ids[i]) + ';' + str(flux_g) + ';' + str(flux_i) + '\\n')\n",
    "    target.close()\n",
    "    \n",
    "    \n",
    "df = pd.read_csv('hack/data/sample.csv',sep=';')\n",
    "ids = df.SDSS_ID.values\n",
    "\n",
    "g_input = ['hack/data/Sample_Data/SAMPLE/'+str(id)+'-g.csv' for id in ids]\n",
    "i_input = ['hack/data/Sample_Data/SAMPLE/'+str(id)+'-i.csv' for id in ids]\n",
    "\n",
    "fluxFeature(ids, g_input, i_input,'flux.csv')"
   ]
  }
 ],
 "metadata": {
  "kernelspec": {
   "display_name": "Python 3",
   "language": "python",
   "name": "python3"
  },
  "language_info": {
   "codemirror_mode": {
    "name": "ipython",
    "version": 3
   },
   "file_extension": ".py",
   "mimetype": "text/x-python",
   "name": "python",
   "nbconvert_exporter": "python",
   "pygments_lexer": "ipython3",
   "version": "3.5.3"
  }
 },
 "nbformat": 4,
 "nbformat_minor": 2
}
